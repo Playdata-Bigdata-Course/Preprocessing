{
 "cells": [
  {
   "cell_type": "markdown",
   "metadata": {},
   "source": [
    "### 쇼핑몰의 고객 정보를 기반으로 기계학습을 위한 EDA(전처리)"
   ]
  },
  {
   "cell_type": "code",
   "execution_count": 4,
   "metadata": {},
   "outputs": [],
   "source": [
    "import numpy as np\n",
    "import pandas as pd\n",
    "\n",
    "import matplotlib.pyplot as plt\n",
    "import seaborn as sns"
   ]
  },
  {
   "cell_type": "code",
   "execution_count": 6,
   "metadata": {},
   "outputs": [],
   "source": [
    "# 시각화 library -seaborn의 기초, 섬세한 표현 작업싱에는 matplotlib도 필요로 함\n",
    "import matplotlib.pyplot as plt\n",
    "\n",
    "# 한글 인코딩 처리\n",
    "plt.rc('font', family='malgun gothic')\n",
    "\n",
    "# - 기호 깨짐 현상 방지를 위한 설정\n",
    "plt.rc('axes', unicode_minus=False)\n",
    "\n",
    "# jupyter notebook에서 chart를 그리기 위한 설정\n",
    "%matplotlib inline"
   ]
  },
  {
   "cell_type": "markdown",
   "metadata": {},
   "source": [
    "#### 데이터 로딩"
   ]
  },
  {
   "cell_type": "markdown",
   "metadata": {},
   "source": [
    "**mem_data.csv 고객정보데이터**\n",
    "- 'MEM_ID' : 회원코드\n",
    "- 'M_STORE_ID' : 가맹점 코드\n",
    "- 'GENDER' :남(M), 여(F) \n",
    "- 'BIRTH_DT' :생년월일\n",
    "- 'BIRTH_SL' : 양력(S), 음력(L)\n",
    "- 'ZIP_CD' : 우편번호\n",
    "- 'RGST_DT' : 등록일\n",
    "- 'VISIT_CNT' : 방문횟수\n",
    "- 'SALES_AMT' : 구매 합계\n",
    "- 'LAST_VST_DT' : 최근 방문 일자\n",
    "- 'USABLE_PNT' : 가용 포인트\n",
    "- 'USED_PNT' : 사용포인트 합계\n",
    "- 'ACC_PNT' : 누적포인트 합계\n",
    "- 'USABLE_INIT' : 초기 포인트\n",
    "- 'SMS' : SNS 수신동의"
   ]
  },
  {
   "cell_type": "code",
   "execution_count": 11,
   "metadata": {},
   "outputs": [
    {
     "data": {
      "text/html": [
       "<div>\n",
       "<style scoped>\n",
       "    .dataframe tbody tr th:only-of-type {\n",
       "        vertical-align: middle;\n",
       "    }\n",
       "\n",
       "    .dataframe tbody tr th {\n",
       "        vertical-align: top;\n",
       "    }\n",
       "\n",
       "    .dataframe thead th {\n",
       "        text-align: right;\n",
       "    }\n",
       "</style>\n",
       "<table border=\"1\" class=\"dataframe\">\n",
       "  <thead>\n",
       "    <tr style=\"text-align: right;\">\n",
       "      <th></th>\n",
       "      <th>MEM_ID</th>\n",
       "      <th>M_STORE_ID</th>\n",
       "      <th>GENDER</th>\n",
       "      <th>BIRTH_DT</th>\n",
       "      <th>BIRTH_SL</th>\n",
       "      <th>ZIP_CD</th>\n",
       "      <th>RGST_DT</th>\n",
       "      <th>VISIT_CNT</th>\n",
       "      <th>SALES_AMT</th>\n",
       "      <th>LAST_VST_DT</th>\n",
       "      <th>USABLE_PNT</th>\n",
       "      <th>USED_PNT</th>\n",
       "      <th>ACC_PNT</th>\n",
       "      <th>USABLE_INIT</th>\n",
       "      <th>SMS</th>\n",
       "    </tr>\n",
       "  </thead>\n",
       "  <tbody>\n",
       "    <tr>\n",
       "      <th>0</th>\n",
       "      <td>1134945</td>\n",
       "      <td>1084</td>\n",
       "      <td>M</td>\n",
       "      <td>NaN</td>\n",
       "      <td>S</td>\n",
       "      <td>-</td>\n",
       "      <td>2006-02-04 11:51:08.233000000</td>\n",
       "      <td>8.0</td>\n",
       "      <td>337000.0</td>\n",
       "      <td>2007-01-19 21:46:12.827000000</td>\n",
       "      <td>6740.0</td>\n",
       "      <td>0.0</td>\n",
       "      <td>6740.0</td>\n",
       "      <td>3202.0</td>\n",
       "      <td>Y</td>\n",
       "    </tr>\n",
       "    <tr>\n",
       "      <th>1</th>\n",
       "      <td>38458</td>\n",
       "      <td>539</td>\n",
       "      <td>F</td>\n",
       "      <td>1973-07-11</td>\n",
       "      <td>S</td>\n",
       "      <td>420-721</td>\n",
       "      <td>2006-02-04 11:51:08.233000000</td>\n",
       "      <td>22.0</td>\n",
       "      <td>1438500.0</td>\n",
       "      <td>2007-10-18 19:57:45.503000000</td>\n",
       "      <td>1732.0</td>\n",
       "      <td>12000.0</td>\n",
       "      <td>13732.0</td>\n",
       "      <td>17762.0</td>\n",
       "      <td>Y</td>\n",
       "    </tr>\n",
       "    <tr>\n",
       "      <th>2</th>\n",
       "      <td>7009</td>\n",
       "      <td>1113</td>\n",
       "      <td>F</td>\n",
       "      <td>1973-04-06</td>\n",
       "      <td>S</td>\n",
       "      <td>-</td>\n",
       "      <td>2006-02-04 11:51:08.233000000</td>\n",
       "      <td>8.0</td>\n",
       "      <td>309300.0</td>\n",
       "      <td>2007-05-30 15:21:10.863000000</td>\n",
       "      <td>6372.0</td>\n",
       "      <td>0.0</td>\n",
       "      <td>6372.0</td>\n",
       "      <td>1856.0</td>\n",
       "      <td>Y</td>\n",
       "    </tr>\n",
       "    <tr>\n",
       "      <th>3</th>\n",
       "      <td>1374842</td>\n",
       "      <td>1300</td>\n",
       "      <td>M</td>\n",
       "      <td>NaN</td>\n",
       "      <td>S</td>\n",
       "      <td>-</td>\n",
       "      <td>2006-02-04 11:51:08.233000000</td>\n",
       "      <td>3.0</td>\n",
       "      <td>110300.0</td>\n",
       "      <td>2007-03-25 12:49:30.170000000</td>\n",
       "      <td>2206.0</td>\n",
       "      <td>0.0</td>\n",
       "      <td>2206.0</td>\n",
       "      <td>1522.0</td>\n",
       "      <td>Y</td>\n",
       "    </tr>\n",
       "    <tr>\n",
       "      <th>4</th>\n",
       "      <td>1383660</td>\n",
       "      <td>1024</td>\n",
       "      <td>M</td>\n",
       "      <td>NaN</td>\n",
       "      <td>S</td>\n",
       "      <td>-</td>\n",
       "      <td>2006-02-05 16:56:58</td>\n",
       "      <td>2.0</td>\n",
       "      <td>33500.0</td>\n",
       "      <td>2006-09-09 14:55:21.687000000</td>\n",
       "      <td>670.0</td>\n",
       "      <td>0.0</td>\n",
       "      <td>670.0</td>\n",
       "      <td>110.0</td>\n",
       "      <td>Y</td>\n",
       "    </tr>\n",
       "  </tbody>\n",
       "</table>\n",
       "</div>"
      ],
      "text/plain": [
       "    MEM_ID  M_STORE_ID GENDER    BIRTH_DT BIRTH_SL   ZIP_CD  \\\n",
       "0  1134945        1084      M         NaN        S        -   \n",
       "1    38458         539      F  1973-07-11        S  420-721   \n",
       "2     7009        1113      F  1973-04-06        S        -   \n",
       "3  1374842        1300      M         NaN        S        -   \n",
       "4  1383660        1024      M         NaN        S        -   \n",
       "\n",
       "                         RGST_DT  VISIT_CNT  SALES_AMT  \\\n",
       "0  2006-02-04 11:51:08.233000000        8.0   337000.0   \n",
       "1  2006-02-04 11:51:08.233000000       22.0  1438500.0   \n",
       "2  2006-02-04 11:51:08.233000000        8.0   309300.0   \n",
       "3  2006-02-04 11:51:08.233000000        3.0   110300.0   \n",
       "4            2006-02-05 16:56:58        2.0    33500.0   \n",
       "\n",
       "                     LAST_VST_DT  USABLE_PNT  USED_PNT  ACC_PNT  USABLE_INIT  \\\n",
       "0  2007-01-19 21:46:12.827000000      6740.0       0.0   6740.0       3202.0   \n",
       "1  2007-10-18 19:57:45.503000000      1732.0   12000.0  13732.0      17762.0   \n",
       "2  2007-05-30 15:21:10.863000000      6372.0       0.0   6372.0       1856.0   \n",
       "3  2007-03-25 12:49:30.170000000      2206.0       0.0   2206.0       1522.0   \n",
       "4  2006-09-09 14:55:21.687000000       670.0       0.0    670.0        110.0   \n",
       "\n",
       "  SMS  \n",
       "0   Y  \n",
       "1   Y  \n",
       "2   Y  \n",
       "3   Y  \n",
       "4   Y  "
      ]
     },
     "execution_count": 11,
     "metadata": {},
     "output_type": "execute_result"
    }
   ],
   "source": [
    "mem_data.head()"
   ]
  },
  {
   "cell_type": "code",
   "execution_count": null,
   "metadata": {},
   "outputs": [],
   "source": []
  },
  {
   "cell_type": "code",
   "execution_count": 9,
   "metadata": {},
   "outputs": [
    {
     "name": "stdout",
     "output_type": "stream",
     "text": [
      "<class 'pandas.core.frame.DataFrame'>\n",
      "RangeIndex: 7534 entries, 0 to 7533\n",
      "Data columns (total 15 columns):\n",
      " #   Column       Non-Null Count  Dtype  \n",
      "---  ------       --------------  -----  \n",
      " 0   MEM_ID       7534 non-null   int64  \n",
      " 1   M_STORE_ID   7534 non-null   int64  \n",
      " 2   GENDER       7534 non-null   object \n",
      " 3   BIRTH_DT     4193 non-null   object \n",
      " 4   BIRTH_SL     7534 non-null   object \n",
      " 5   ZIP_CD       7534 non-null   object \n",
      " 6   RGST_DT      7534 non-null   object \n",
      " 7   VISIT_CNT    7534 non-null   float64\n",
      " 8   SALES_AMT    7534 non-null   float64\n",
      " 9   LAST_VST_DT  7534 non-null   object \n",
      " 10  USABLE_PNT   7534 non-null   float64\n",
      " 11  USED_PNT     7534 non-null   float64\n",
      " 12  ACC_PNT      7534 non-null   float64\n",
      " 13  USABLE_INIT  7534 non-null   float64\n",
      " 14  SMS          7534 non-null   object \n",
      "dtypes: float64(6), int64(2), object(7)\n",
      "memory usage: 883.0+ KB\n"
     ]
    }
   ],
   "source": [
    "mem_data = pd.read_csv('0.dataSet/mem_data.csv')\n",
    "mem_data.info()"
   ]
  },
  {
   "cell_type": "code",
   "execution_count": 10,
   "metadata": {},
   "outputs": [
    {
     "data": {
      "text/plain": [
       "Index(['MEM_ID', 'M_STORE_ID', 'GENDER', 'BIRTH_DT', 'BIRTH_SL', 'ZIP_CD',\n",
       "       'RGST_DT', 'VISIT_CNT', 'SALES_AMT', 'LAST_VST_DT', 'USABLE_PNT',\n",
       "       'USED_PNT', 'ACC_PNT', 'USABLE_INIT', 'SMS'],\n",
       "      dtype='object')"
      ]
     },
     "execution_count": 10,
     "metadata": {},
     "output_type": "execute_result"
    }
   ],
   "source": [
    "mem_data.columns"
   ]
  },
  {
   "cell_type": "code",
   "execution_count": null,
   "metadata": {},
   "outputs": [],
   "source": []
  },
  {
   "cell_type": "code",
   "execution_count": null,
   "metadata": {},
   "outputs": [],
   "source": []
  }
 ],
 "metadata": {
  "kernelspec": {
   "display_name": "Python 3",
   "language": "python",
   "name": "python3"
  },
  "language_info": {
   "codemirror_mode": {
    "name": "ipython",
    "version": 3
   },
   "file_extension": ".py",
   "mimetype": "text/x-python",
   "name": "python",
   "nbconvert_exporter": "python",
   "pygments_lexer": "ipython3",
   "version": "3.8.5"
  }
 },
 "nbformat": 4,
 "nbformat_minor": 4
}
