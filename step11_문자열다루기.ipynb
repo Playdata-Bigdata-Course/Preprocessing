{
 "cells": [
  {
   "cell_type": "code",
   "execution_count": 1,
   "metadata": {},
   "outputs": [],
   "source": [
    "import numpy as np\n",
    "import pandas as pd"
   ]
  },
  {
   "cell_type": "code",
   "execution_count": 2,
   "metadata": {},
   "outputs": [
    {
     "data": {
      "text/html": [
       "<div>\n",
       "<style scoped>\n",
       "    .dataframe tbody tr th:only-of-type {\n",
       "        vertical-align: middle;\n",
       "    }\n",
       "\n",
       "    .dataframe tbody tr th {\n",
       "        vertical-align: top;\n",
       "    }\n",
       "\n",
       "    .dataframe thead th {\n",
       "        text-align: right;\n",
       "    }\n",
       "</style>\n",
       "<table border=\"1\" class=\"dataframe\">\n",
       "  <thead>\n",
       "    <tr style=\"text-align: right;\">\n",
       "      <th></th>\n",
       "      <th>name</th>\n",
       "      <th>birth</th>\n",
       "      <th>email</th>\n",
       "    </tr>\n",
       "  </thead>\n",
       "  <tbody>\n",
       "    <tr>\n",
       "      <th>0</th>\n",
       "      <td>이영자</td>\n",
       "      <td>2021-01-01 9:10</td>\n",
       "      <td>happy@gmail.com</td>\n",
       "    </tr>\n",
       "    <tr>\n",
       "      <th>1</th>\n",
       "      <td>신동엽</td>\n",
       "      <td>2021-01-08 9:20</td>\n",
       "      <td>sin@naver.com</td>\n",
       "    </tr>\n",
       "    <tr>\n",
       "      <th>2</th>\n",
       "      <td>정찬우</td>\n",
       "      <td>2021-02-01 10:20</td>\n",
       "      <td>Iron at yahoo.co.kr</td>\n",
       "    </tr>\n",
       "    <tr>\n",
       "      <th>3</th>\n",
       "      <td>김태우</td>\n",
       "      <td>2021-02-02 11:40</td>\n",
       "      <td>\\tWidow@gmail.com</td>\n",
       "    </tr>\n",
       "    <tr>\n",
       "      <th>4</th>\n",
       "      <td>이정희</td>\n",
       "      <td>2021-02-28 15:10</td>\n",
       "      <td>thor@daum.net\\t</td>\n",
       "    </tr>\n",
       "    <tr>\n",
       "      <th>5</th>\n",
       "      <td>이나영</td>\n",
       "      <td>2021-06-30 21:20</td>\n",
       "      <td>loki88@gmail.com</td>\n",
       "    </tr>\n",
       "    <tr>\n",
       "      <th>6</th>\n",
       "      <td>이정인</td>\n",
       "      <td>2021-07-20 23:30</td>\n",
       "      <td>fury@naver.com</td>\n",
       "    </tr>\n",
       "    <tr>\n",
       "      <th>7</th>\n",
       "      <td>유재석</td>\n",
       "      <td>2021-08-28 11:48</td>\n",
       "      <td>FALCON@daum.net</td>\n",
       "    </tr>\n",
       "    <tr>\n",
       "      <th>8</th>\n",
       "      <td>백종원</td>\n",
       "      <td>2021-09-01 3:12</td>\n",
       "      <td>kim at gmail.com</td>\n",
       "    </tr>\n",
       "  </tbody>\n",
       "</table>\n",
       "</div>"
      ],
      "text/plain": [
       "  name             birth                  email\n",
       "0  이영자   2021-01-01 9:10       happy@gmail.com \n",
       "1  신동엽   2021-01-08 9:20          sin@naver.com\n",
       "2  정찬우  2021-02-01 10:20   Iron at yahoo.co.kr \n",
       "3  김태우  2021-02-02 11:40      \\tWidow@gmail.com\n",
       "4  이정희  2021-02-28 15:10        thor@daum.net\\t\n",
       "5  이나영  2021-06-30 21:20       loki88@gmail.com\n",
       "6  이정인  2021-07-20 23:30         fury@naver.com\n",
       "7  유재석  2021-08-28 11:48        FALCON@daum.net\n",
       "8  백종원   2021-09-01 3:12       kim at gmail.com"
      ]
     },
     "execution_count": 2,
     "metadata": {},
     "output_type": "execute_result"
    }
   ],
   "source": [
    "df = pd.read_csv('0.dataSet/personinfo.csv')\n",
    "df"
   ]
  },
  {
   "cell_type": "code",
   "execution_count": 3,
   "metadata": {},
   "outputs": [
    {
     "data": {
      "text/plain": [
       "0         happy@gmail.com \n",
       "1            sin@naver.com\n",
       "2     Iron at yahoo.co.kr \n",
       "3        \\tWidow@gmail.com\n",
       "4          thor@daum.net\\t\n",
       "5         loki88@gmail.com\n",
       "6           fury@naver.com\n",
       "7          FALCON@daum.net\n",
       "8         kim at gmail.com\n",
       "Name: email, dtype: object"
      ]
     },
     "execution_count": 3,
     "metadata": {},
     "output_type": "execute_result"
    }
   ],
   "source": [
    "df['email']"
   ]
  },
  {
   "cell_type": "code",
   "execution_count": 4,
   "metadata": {},
   "outputs": [
    {
     "data": {
      "text/plain": [
       "pandas.core.series.Series"
      ]
     },
     "execution_count": 4,
     "metadata": {},
     "output_type": "execute_result"
    }
   ],
   "source": [
    "type(df['email'])"
   ]
  },
  {
   "cell_type": "code",
   "execution_count": 7,
   "metadata": {},
   "outputs": [
    {
     "data": {
      "text/plain": [
       "0        happy@gmail.com\n",
       "1          sin@naver.com\n",
       "2    Iron at yahoo.co.kr\n",
       "3        Widow@gmail.com\n",
       "4          thor@daum.net\n",
       "5       loki88@gmail.com\n",
       "6         fury@naver.com\n",
       "7        FALCON@daum.net\n",
       "8       kim at gmail.com\n",
       "Name: email, dtype: object"
      ]
     },
     "execution_count": 7,
     "metadata": {},
     "output_type": "execute_result"
    }
   ],
   "source": [
    "# 의미없는 이메일의 앞뒤 잉여 여백 제거 완료\n",
    "df['email'] = df['email'].str.strip()\n",
    "df['email']"
   ]
  },
  {
   "cell_type": "markdown",
   "metadata": {},
   "source": [
    "**문자열 길이 맞추기(padding)**\n",
    "\n",
    "- 고정 길이의 데이터를 사용해야 할 경우"
   ]
  },
  {
   "cell_type": "code",
   "execution_count": 10,
   "metadata": {},
   "outputs": [
    {
     "data": {
      "text/plain": [
       "0         happy@gmail.com\n",
       "1           sin@naver.com\n",
       "2     Iron at yahoo.co.kr\n",
       "3         Widow@gmail.com\n",
       "4           thor@daum.net\n",
       "5        loki88@gmail.com\n",
       "6          fury@naver.com\n",
       "7         FALCON@daum.net\n",
       "8        kim at gmail.com\n",
       "Name: email, dtype: object"
      ]
     },
     "execution_count": 10,
     "metadata": {},
     "output_type": "execute_result"
    }
   ],
   "source": [
    "df['email'].str.pad(width=20, side='left', fillchar=' ')"
   ]
  },
  {
   "cell_type": "markdown",
   "metadata": {},
   "source": [
    "**글자 대체**"
   ]
  },
  {
   "cell_type": "code",
   "execution_count": 11,
   "metadata": {},
   "outputs": [
    {
     "data": {
      "text/plain": [
       "0        happy@gmail.com\n",
       "1          sin@naver.com\n",
       "2    Iron at yahoo.co.kr\n",
       "3        Widow@gmail.com\n",
       "4          thor@daum.net\n",
       "5       loki88@gmail.com\n",
       "6         fury@naver.com\n",
       "7        FALCON@daum.net\n",
       "8       kim at gmail.com\n",
       "Name: email, dtype: object"
      ]
     },
     "execution_count": 11,
     "metadata": {},
     "output_type": "execute_result"
    }
   ],
   "source": [
    "df['email']"
   ]
  },
  {
   "cell_type": "code",
   "execution_count": 12,
   "metadata": {},
   "outputs": [
    {
     "data": {
      "text/html": [
       "<div>\n",
       "<style scoped>\n",
       "    .dataframe tbody tr th:only-of-type {\n",
       "        vertical-align: middle;\n",
       "    }\n",
       "\n",
       "    .dataframe tbody tr th {\n",
       "        vertical-align: top;\n",
       "    }\n",
       "\n",
       "    .dataframe thead th {\n",
       "        text-align: right;\n",
       "    }\n",
       "</style>\n",
       "<table border=\"1\" class=\"dataframe\">\n",
       "  <thead>\n",
       "    <tr style=\"text-align: right;\">\n",
       "      <th></th>\n",
       "      <th>name</th>\n",
       "      <th>birth</th>\n",
       "      <th>email</th>\n",
       "    </tr>\n",
       "  </thead>\n",
       "  <tbody>\n",
       "    <tr>\n",
       "      <th>0</th>\n",
       "      <td>이영자</td>\n",
       "      <td>2021-01-01 9:10</td>\n",
       "      <td>happy@gmail.com</td>\n",
       "    </tr>\n",
       "    <tr>\n",
       "      <th>1</th>\n",
       "      <td>신동엽</td>\n",
       "      <td>2021-01-08 9:20</td>\n",
       "      <td>sin@naver.com</td>\n",
       "    </tr>\n",
       "    <tr>\n",
       "      <th>2</th>\n",
       "      <td>정찬우</td>\n",
       "      <td>2021-02-01 10:20</td>\n",
       "      <td>Iron@yahoo.co.kr</td>\n",
       "    </tr>\n",
       "    <tr>\n",
       "      <th>3</th>\n",
       "      <td>김태우</td>\n",
       "      <td>2021-02-02 11:40</td>\n",
       "      <td>Widow@gmail.com</td>\n",
       "    </tr>\n",
       "    <tr>\n",
       "      <th>4</th>\n",
       "      <td>이정희</td>\n",
       "      <td>2021-02-28 15:10</td>\n",
       "      <td>thor@daum.net</td>\n",
       "    </tr>\n",
       "    <tr>\n",
       "      <th>5</th>\n",
       "      <td>이나영</td>\n",
       "      <td>2021-06-30 21:20</td>\n",
       "      <td>loki88@gmail.com</td>\n",
       "    </tr>\n",
       "    <tr>\n",
       "      <th>6</th>\n",
       "      <td>이정인</td>\n",
       "      <td>2021-07-20 23:30</td>\n",
       "      <td>fury@naver.com</td>\n",
       "    </tr>\n",
       "    <tr>\n",
       "      <th>7</th>\n",
       "      <td>유재석</td>\n",
       "      <td>2021-08-28 11:48</td>\n",
       "      <td>FALCON@daum.net</td>\n",
       "    </tr>\n",
       "    <tr>\n",
       "      <th>8</th>\n",
       "      <td>백종원</td>\n",
       "      <td>2021-09-01 3:12</td>\n",
       "      <td>kim@gmail.com</td>\n",
       "    </tr>\n",
       "  </tbody>\n",
       "</table>\n",
       "</div>"
      ],
      "text/plain": [
       "  name             birth             email\n",
       "0  이영자   2021-01-01 9:10   happy@gmail.com\n",
       "1  신동엽   2021-01-08 9:20     sin@naver.com\n",
       "2  정찬우  2021-02-01 10:20  Iron@yahoo.co.kr\n",
       "3  김태우  2021-02-02 11:40   Widow@gmail.com\n",
       "4  이정희  2021-02-28 15:10     thor@daum.net\n",
       "5  이나영  2021-06-30 21:20  loki88@gmail.com\n",
       "6  이정인  2021-07-20 23:30    fury@naver.com\n",
       "7  유재석  2021-08-28 11:48   FALCON@daum.net\n",
       "8  백종원   2021-09-01 3:12     kim@gmail.com"
      ]
     },
     "execution_count": 12,
     "metadata": {},
     "output_type": "execute_result"
    }
   ],
   "source": [
    "df['email'] = df['email'].str.replace(' at ', '@')\n",
    "df"
   ]
  },
  {
   "cell_type": "code",
   "execution_count": 13,
   "metadata": {},
   "outputs": [
    {
     "data": {
      "text/plain": [
       "0     [happy, gmail.com]\n",
       "1       [sin, naver.com]\n",
       "2    [Iron, yahoo.co.kr]\n",
       "3     [Widow, gmail.com]\n",
       "4       [thor, daum.net]\n",
       "5    [loki88, gmail.com]\n",
       "6      [fury, naver.com]\n",
       "7     [FALCON, daum.net]\n",
       "8       [kim, gmail.com]\n",
       "Name: email, dtype: object"
      ]
     },
     "execution_count": 13,
     "metadata": {},
     "output_type": "execute_result"
    }
   ],
   "source": [
    "# 이메일에서 id값만 도출하기\n",
    "df['email'].str.split('@', n=1)"
   ]
  }
 ],
 "metadata": {
  "kernelspec": {
   "display_name": "Python 3",
   "language": "python",
   "name": "python3"
  },
  "language_info": {
   "codemirror_mode": {
    "name": "ipython",
    "version": 3
   },
   "file_extension": ".py",
   "mimetype": "text/x-python",
   "name": "python",
   "nbconvert_exporter": "python",
   "pygments_lexer": "ipython3",
   "version": "3.8.5"
  }
 },
 "nbformat": 4,
 "nbformat_minor": 4
}
